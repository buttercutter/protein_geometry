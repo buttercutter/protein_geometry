{
  "nbformat": 4,
  "nbformat_minor": 0,
  "metadata": {
    "colab": {
      "provenance": []
    },
    "kernelspec": {
      "name": "python3",
      "display_name": "Python 3"
    },
    "language_info": {
      "name": "python"
    }
  },
  "cells": [
    {
      "cell_type": "code",
      "source": [
        "import numpy\n",
        "import torch\n",
        "import torch as th\n",
        "import torch.nn.functional as F"
      ],
      "metadata": {
        "id": "-Xhh7DZIefP6"
      },
      "execution_count": 1,
      "outputs": []
    },
    {
      "cell_type": "code",
      "source": [
        "# Thanks for StructTrans\n",
        "# https://github.com/jingraham/neurips19-graph-protein-design\n",
        "def nan_to_num(tensor: torch.Tensor, nan=0.0) -> torch.Tensor:\n",
        "    return tensor.masked_fill_(torch.isnan(tensor), nan)\n",
        "     \n",
        " \n",
        "def _normalize(tensor: torch.Tensor, dim=-1) -> torch.Tensor:\n",
        "    return nan_to_num(F.normalize(tensor, dim=dim))\n"
      ],
      "metadata": {
        "id": "H6tslwbueVUm"
      },
      "execution_count": 2,
      "outputs": []
    },
    {
      "cell_type": "code",
      "execution_count": 3,
      "metadata": {
        "id": "xXVA1jEed8uF"
      },
      "outputs": [],
      "source": [
        "def _quaternions(R: th.Tensor) -> th.Tensor:\n",
        "    \"\"\"((...), 3, 3) -> ((...), 4)\"\"\"\n",
        "    ii, ij, ik, ji, jj, jk, ki, kj, kk = th.unbind(R.reshape(*R.shape[:-2], -1), -1)\n",
        "\n",
        "    qi = +ii - jj - kk\n",
        "    qj = -ii + jj - kk\n",
        "    qk = -ii - jj + kk\n",
        "\n",
        "    proto_q = th.stack((qi, qj, qk), dim=-1)\n",
        "    magnitudes = proto_q.add_(1.0).abs().sqrt().mul_(0.5)\n",
        "\n",
        "    signs = th.stack([kj - jk, ik - ki, ji - ij], -1).sign()\n",
        "    xyz = signs * magnitudes\n",
        "    w = F.relu(1 + ii + jj + kk).sqrt().mul_(0.5)\n",
        "    Q = th.cat((xyz, w[..., None]), -1)\n",
        "\n",
        "    return _normalize(Q, dim=-1)\n"
      ]
    },
    {
      "cell_type": "code",
      "source": [
        "def quaternions(R):\n",
        "    diag = torch.diagonal(R, dim1=-2, dim2=-1)\n",
        "    Rxx, Ryy, Rzz = diag.unbind(-1)\n",
        "\n",
        "    magnitudes = 0.5 * torch.sqrt(torch.abs(1 + torch.stack([\n",
        "          Rxx - Ryy - Rzz, \n",
        "        - Rxx + Ryy - Rzz, \n",
        "        - Rxx - Ryy + Rzz\n",
        "    ], -1)))\n",
        "\n",
        "    _R = lambda i,j: R[:,:,:,i,j]\n",
        "\n",
        "    signs = torch.sign(torch.stack([\n",
        "        _R(2,1) - _R(1,2),\n",
        "        _R(0,2) - _R(2,0),\n",
        "        _R(1,0) - _R(0,1)\n",
        "    ], -1))\n",
        "\n",
        "    xyz = signs * magnitudes\n",
        "    w = torch.sqrt(F.relu(1 + diag.sum(-1, keepdim=True))) / 2.\n",
        "    Q = torch.cat((xyz, w), -1)\n",
        "\n",
        "    return _normalize(Q, dim=-1)\n"
      ],
      "metadata": {
        "id": "ZuWT6fHnePFz"
      },
      "execution_count": 5,
      "outputs": []
    },
    {
      "cell_type": "code",
      "source": [],
      "metadata": {
        "id": "pM4Jlfnpfy1Y"
      },
      "execution_count": null,
      "outputs": []
    }
  ]
}